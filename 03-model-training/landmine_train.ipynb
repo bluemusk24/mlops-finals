{
 "cells": [
  {
   "cell_type": "code",
   "execution_count": 1,
   "id": "fa1f76b9-5fda-4e5e-820b-adeef01e2f19",
   "metadata": {},
   "outputs": [],
   "source": [
    "# import the libraries\n",
    "import pandas as pd\n",
    "import numpy as np\n",
    "\n",
    "from sklearn.model_selection import train_test_split\n",
    "\n",
    "from sklearn.feature_extraction import DictVectorizer\n",
    "from sklearn.svm import SVC\n",
    "\n",
    "from sklearn.metrics import roc_auc_score\n",
    "from sklearn.metrics import accuracy_score"
   ]
  },
  {
   "cell_type": "code",
   "execution_count": 2,
   "id": "fc9969e4-74f7-484d-958e-1aceb4596021",
   "metadata": {},
   "outputs": [],
   "source": [
    "# Best hyperparameters of Support Vector Machine Classifier\n",
    "SVC_best_params = {\n",
    "    \"C\": 239.7017845360123,\n",
    "    \"kernel\": \"poly\",\n",
    "    \"degree\": 3,\n",
    "    \"gamma\": \"scale\",\n",
    "    \"coef0\": 9.717139430035742,\n",
    "    \"tol\": 0.6958712596862648,\n",
    "    \"cache_size\": 139,\n",
    "    \"decision_function_shape\": \"ovo\",\n",
    "}"
   ]
  },
  {
   "cell_type": "code",
   "execution_count": 3,
   "id": "6d4b74d3-3dee-4347-acd9-6a88f509368f",
   "metadata": {},
   "outputs": [],
   "source": [
    "# data preparation\n",
    "\n",
    "df = pd.read_csv(\"Mine_Dataset.csv\")\n",
    "\n",
    "df = df.rename(\n",
    "    columns={\"V\": \"voltage\", \"H\": \"height\", \"S\": \"soil_types\", \"M\": \"mine_types\"}\n",
    ")\n",
    "\n",
    "df[\"mine_types\"] = df[\"mine_types\"].replace({1: 0, 2: 1, 3: 2, 4: 3, 5: 4})\n",
    "\n",
    "Q1 = df.quantile(0.25)\n",
    "Q3 = df.quantile(0.75)\n",
    "IQR = Q3 - Q1\n",
    "df = df[~((df < (Q1 - 1.5 * IQR)) | (df > (Q3 + 1.5 * IQR))).any(axis=1)]\n",
    "df.reset_index(drop=True)\n",
    "\n",
    "num_variables = [\"voltage\", \"height\"]\n",
    "cat_variable = [\"soil_types\"]\n",
    "df[cat_variable] = df[cat_variable].astype(str)\n",
    "\n",
    "df_full_train, df_test = train_test_split(df, test_size=0.2, random_state=1)"
   ]
  },
  {
   "cell_type": "code",
   "execution_count": 4,
   "id": "7c40de4a-524a-4403-8ba7-2826cd4225ae",
   "metadata": {},
   "outputs": [],
   "source": [
    "# Training function\n",
    "\n",
    "\n",
    "def train(df_train, y_train, **SVC_best_params):\n",
    "    train_dicts = df_train[cat_variable + num_variables].to_dict(orient=\"records\")\n",
    "\n",
    "    dv = DictVectorizer(sparse=False)\n",
    "    X_train = dv.fit_transform(train_dicts)\n",
    "\n",
    "    model_SVC = SVC(**SVC_best_params)\n",
    "    model_SVC.fit(X_train, y_train)\n",
    "\n",
    "    return dv, model_SVC"
   ]
  },
  {
   "cell_type": "code",
   "execution_count": 5,
   "id": "f9552622-047e-45c6-87ed-64087841e811",
   "metadata": {},
   "outputs": [],
   "source": [
    "# Prediction function:\n",
    "\n",
    "\n",
    "def predict(df, dv, model):\n",
    "    dicts = df[cat_variable + num_variables].to_dict(orient=\"records\")\n",
    "\n",
    "    X = dv.transform(dicts)\n",
    "    y_pred = model.predict(X)\n",
    "\n",
    "    return y_pred"
   ]
  },
  {
   "cell_type": "code",
   "execution_count": 6,
   "id": "6f13dd60-8853-4362-bd5b-6f8c5a263ef1",
   "metadata": {},
   "outputs": [],
   "source": [
    "# Evaluation function of auc_score for individual target\n",
    "\n",
    "\n",
    "def roc_auc_score_multiclass(actual_class, pred_class, average=\"macro\"):\n",
    "\n",
    "    # creating a set of all the unique classes using the actual class list\n",
    "    unique_class = set(actual_class)\n",
    "    roc_auc_dict = {}\n",
    "    for per_class in unique_class:\n",
    "\n",
    "        # creating a list of all the classes except the current class\n",
    "        other_class = [x for x in unique_class if x != per_class]\n",
    "\n",
    "        # marking the current class as 1 and all other classes as 0\n",
    "        new_actual_class = [0 if x in other_class else 1 for x in actual_class]\n",
    "        new_pred_class = [0 if x in other_class else 1 for x in pred_class]\n",
    "\n",
    "        # using scikit-learn method to calculate the roc_auc_score\n",
    "        roc_auc = roc_auc_score(new_actual_class, new_pred_class, average=average)\n",
    "        roc_auc_dict[per_class] = roc_auc\n",
    "\n",
    "    return roc_auc_dict"
   ]
  },
  {
   "cell_type": "code",
   "execution_count": 7,
   "id": "9768c945-97e4-494f-9de6-5fc2e6f7b585",
   "metadata": {},
   "outputs": [
    {
     "name": "stdout",
     "output_type": "stream",
     "text": [
      "accuracy of model_SVC : 0.6935483870967742\n",
      "\n",
      "\n",
      "auc of model_SVC : {0: 0.8866666666666667, 1: 1.0, 2: 0.7785326086956521, 3: 0.7955974842767295, 4: 0.6535326086956522}\n"
     ]
    }
   ],
   "source": [
    "# applying both train and predict functions\n",
    "\n",
    "dv, model_SVC = train(\n",
    "    df_full_train, df_full_train[\"mine_types\"].values, **SVC_best_params\n",
    ")\n",
    "y_pred = predict(df_test, dv, model_SVC)\n",
    "\n",
    "y_test = df_test[\"mine_types\"].values\n",
    "\n",
    "accuracy = accuracy_score(y_test, y_pred)\n",
    "print(f\"accuracy of model_SVC : {accuracy}\")\n",
    "print(\"\\n\")\n",
    "auc = roc_auc_score_multiclass(y_test, y_pred)\n",
    "print(f\"auc of model_SVC : {auc}\")"
   ]
  },
  {
   "cell_type": "markdown",
   "id": "102cb02b-6ca1-4073-a69b-7647323e7db1",
   "metadata": {},
   "source": [
    "#### Save the SVC model as file in a model folder"
   ]
  },
  {
   "cell_type": "code",
   "execution_count": 8,
   "id": "4897faa4-3eec-4279-8ae0-2930b10e8a27",
   "metadata": {},
   "outputs": [],
   "source": [
    "import pickle"
   ]
  },
  {
   "cell_type": "code",
   "execution_count": null,
   "id": "feeac213-2c8d-427a-9fb2-c29a979a275d",
   "metadata": {},
   "outputs": [],
   "source": [
    "mkdir models"
   ]
  },
  {
   "cell_type": "code",
   "execution_count": 10,
   "id": "08156642-6850-4e4a-bd02-10dd895548c0",
   "metadata": {},
   "outputs": [],
   "source": [
    "with open(\"models/model_SVC.bin\", \"wb\") as f_out:\n",
    "    pickle.dump((dv, model_SVC), f_out)"
   ]
  },
  {
   "cell_type": "markdown",
   "id": "8de9008f-3602-4d50-ba00-1821852df336",
   "metadata": {},
   "source": [
    "#### Load the SVC Model"
   ]
  },
  {
   "cell_type": "code",
   "execution_count": 11,
   "id": "fe5bd236-a7d0-45b4-b117-a02a42905c35",
   "metadata": {},
   "outputs": [],
   "source": [
    "with open(\"models/model_SVC.bin\", \"rb\") as f_in:\n",
    "    dv, model_SVC = pickle.load(f_in)"
   ]
  },
  {
   "cell_type": "code",
   "execution_count": 12,
   "id": "3541b2ae-22ab-4e02-9b97-3584db4a87d1",
   "metadata": {},
   "outputs": [
    {
     "data": {
      "text/plain": [
       "(DictVectorizer(sparse=False),\n",
       " SVC(C=239.7017845360123, cache_size=139, coef0=9.717139430035742,\n",
       "     decision_function_shape='ovo', kernel='poly', tol=0.6958712596862648))"
      ]
     },
     "execution_count": 12,
     "metadata": {},
     "output_type": "execute_result"
    }
   ],
   "source": [
    "dv, model_SVC"
   ]
  },
  {
   "cell_type": "markdown",
   "id": "68d5006f-a56b-488a-971b-b77a2a570c6d",
   "metadata": {},
   "source": [
    "#### Testing the SVC Model on a passive random landmine sensor"
   ]
  },
  {
   "cell_type": "code",
   "execution_count": 37,
   "id": "12b4cdca-d43c-4a36-89ca-ea690a8e126e",
   "metadata": {},
   "outputs": [
    {
     "data": {
      "text/plain": [
       "62"
      ]
     },
     "execution_count": 37,
     "metadata": {},
     "output_type": "execute_result"
    }
   ],
   "source": [
    "len(df_test)"
   ]
  },
  {
   "cell_type": "code",
   "execution_count": 38,
   "id": "951f8185-61d8-4f07-a585-fa04e69173e1",
   "metadata": {},
   "outputs": [
    {
     "data": {
      "text/plain": [
       "voltage       0.341389\n",
       "height        0.818182\n",
       "soil_types         0.4\n",
       "mine_types           4\n",
       "Name: 216, dtype: object"
      ]
     },
     "execution_count": 38,
     "metadata": {},
     "output_type": "execute_result"
    }
   ],
   "source": [
    "land_mine = df_test.iloc[40]\n",
    "land_mine"
   ]
  },
  {
   "cell_type": "code",
   "execution_count": 39,
   "id": "3c64f840-844a-4a53-b0f3-1d37bafeea2b",
   "metadata": {},
   "outputs": [],
   "source": [
    "land_mine = {\"voltage\": 0.341389, \"height\": 0.818182, \"soil_types\": 0.4}"
   ]
  },
  {
   "cell_type": "code",
   "execution_count": 40,
   "id": "7ac6f270-7a37-4892-8bdc-0caa8ad76e50",
   "metadata": {},
   "outputs": [],
   "source": [
    "X = dv.transform(land_mine)"
   ]
  },
  {
   "cell_type": "code",
   "execution_count": 41,
   "id": "e483703c-c2be-4180-bb28-a231ae76da66",
   "metadata": {},
   "outputs": [
    {
     "data": {
      "text/plain": [
       "3"
      ]
     },
     "execution_count": 41,
     "metadata": {},
     "output_type": "execute_result"
    }
   ],
   "source": [
    "model_SVC.predict(X)[0]"
   ]
  },
  {
   "cell_type": "markdown",
   "id": "7295ad97-d51f-4866-a7d1-562683bcdd2d",
   "metadata": {},
   "source": [
    "* here, the model wrongly predicted landmine type 3(Booby Trapped Anti-Personnel), which differs from the actual landmine which is 4(M14 Anti-Personnel). This confirms accuracy and roc score isn't 100%"
   ]
  },
  {
   "cell_type": "code",
   "execution_count": 42,
   "id": "36e5def0-a842-4d84-81ca-cc2d671ef67a",
   "metadata": {},
   "outputs": [
    {
     "data": {
      "text/plain": [
       "voltage       0.404833\n",
       "height        0.636364\n",
       "soil_types         1.0\n",
       "mine_types           2\n",
       "Name: 292, dtype: object"
      ]
     },
     "execution_count": 42,
     "metadata": {},
     "output_type": "execute_result"
    }
   ],
   "source": [
    "sensor = df_test.iloc[61]\n",
    "sensor"
   ]
  },
  {
   "cell_type": "code",
   "execution_count": 43,
   "id": "63046074-9cdc-4275-8f73-4c5fe9ef1b80",
   "metadata": {},
   "outputs": [],
   "source": [
    "sensor = {\"voltage\": 0.404833, \"height\": 0.636364, \"soil_types\": 1.0}"
   ]
  },
  {
   "cell_type": "code",
   "execution_count": 44,
   "id": "745dca97-5c4a-4750-bc8b-ad3a9009d931",
   "metadata": {},
   "outputs": [],
   "source": [
    "X = dv.transform(sensor)"
   ]
  },
  {
   "cell_type": "code",
   "execution_count": 45,
   "id": "5f175976-576c-42ac-a7a0-821db3d0f332",
   "metadata": {},
   "outputs": [
    {
     "data": {
      "text/plain": [
       "2"
      ]
     },
     "execution_count": 45,
     "metadata": {},
     "output_type": "execute_result"
    }
   ],
   "source": [
    "model_SVC.predict(X)[0]  # prediction same as sensor, whis"
   ]
  },
  {
   "cell_type": "markdown",
   "id": "8c116853-9c39-456a-b8a4-dd92021fceed",
   "metadata": {},
   "source": [
    "* here, the model rightly predicted landmine type 2(Anti-Personnel), which equals the actual landmine 2(Anti-Personnel)"
   ]
  },
  {
   "cell_type": "code",
   "execution_count": null,
   "id": "d09262d0-2cae-48cc-852c-07e6a5e65061",
   "metadata": {},
   "outputs": [],
   "source": []
  }
 ],
 "metadata": {
  "kernelspec": {
   "display_name": "Python 3 (ipykernel)",
   "language": "python",
   "name": "python3"
  },
  "language_info": {
   "codemirror_mode": {
    "name": "ipython",
    "version": 3
   },
   "file_extension": ".py",
   "mimetype": "text/x-python",
   "name": "python",
   "nbconvert_exporter": "python",
   "pygments_lexer": "ipython3",
   "version": "3.11.9"
  }
 },
 "nbformat": 4,
 "nbformat_minor": 5
}
