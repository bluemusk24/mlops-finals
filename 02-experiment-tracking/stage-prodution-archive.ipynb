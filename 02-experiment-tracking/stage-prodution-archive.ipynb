{
 "cells": [
  {
   "cell_type": "code",
   "execution_count": 1,
   "metadata": {},
   "outputs": [],
   "source": [
    "import mlflow"
   ]
  },
  {
   "cell_type": "code",
   "execution_count": 3,
   "metadata": {},
   "outputs": [],
   "source": [
    "from mlflow.tracking import MlflowClient  # login to mLflow using MLflowclient class.\n",
    "\n",
    "MLFLOW_TRACKING_URI = (\n",
    "    \"sqlite:///mlflow.db\"  # grant access to the sqlite artifact models and metadata.\n",
    ")\n",
    "\n",
    "client = MlflowClient(tracking_uri=MLFLOW_TRACKING_URI)"
   ]
  },
  {
   "cell_type": "code",
   "execution_count": 4,
   "metadata": {},
   "outputs": [
    {
     "data": {
      "text/plain": [
       "[<Experiment: artifact_location='mlflow-artifacts:/1', creation_time=1721774118206, experiment_id='1', last_update_time=1721774118206, lifecycle_stage='active', name='mlops-experiment', tags={}>,\n",
       " <Experiment: artifact_location='mlflow-artifacts:/0', creation_time=1721774099328, experiment_id='0', last_update_time=1721774099328, lifecycle_stage='active', name='Default', tags={}>]"
      ]
     },
     "execution_count": 4,
     "metadata": {},
     "output_type": "execute_result"
    }
   ],
   "source": [
    "# to check experiment with the client class. It outputs 2 experiments as seen in MLflow ui dashboard\n",
    "\n",
    "client.search_experiments()"
   ]
  },
  {
   "cell_type": "markdown",
   "metadata": {},
   "source": [
    "Transitioning a model from one a stage to another"
   ]
  },
  {
   "cell_type": "code",
   "execution_count": 5,
   "metadata": {},
   "outputs": [
    {
     "name": "stderr",
     "output_type": "stream",
     "text": [
      "/tmp/ipykernel_158113/1890313578.py:4: FutureWarning: ``mlflow.tracking.client.MlflowClient.get_latest_versions`` is deprecated since 2.9.0. Model registry stages will be removed in a future major release. To learn more about the deprecation of model registry stages, see our migration guide here: https://mlflow.org/docs/latest/model-registry.html#migrating-from-stages\n",
      "  latest_version = client.get_latest_versions(name=model_name)\n"
     ]
    },
    {
     "data": {
      "text/plain": [
       "[<ModelVersion: aliases=[], creation_timestamp=1721785095835, current_stage='Production', description='Model_MLP', last_updated_timestamp=1721787668591, name='mlops-models', run_id='bddff04759da44ef806aae7e65b09655', run_link='', source='mlflow-artifacts:/1/bddff04759da44ef806aae7e65b09655/artifacts/model-MLP', status='READY', status_message=None, tags={}, user_id=None, version=1>,\n",
       " <ModelVersion: aliases=[], creation_timestamp=1721785483629, current_stage='Archived', description='Model_SVC', last_updated_timestamp=1721787605801, name='mlops-models', run_id='5c271082e3ea43f48eed93bc6bee802a', run_link='', source='mlflow-artifacts:/1/5c271082e3ea43f48eed93bc6bee802a/artifacts/model-SVC', status='READY', status_message=None, tags={}, user_id=None, version=2>,\n",
       " <ModelVersion: aliases=[], creation_timestamp=1721785542259, current_stage='Staging', description='Model_RF', last_updated_timestamp=1721787598921, name='mlops-models', run_id='cbae993dd72f49cfb7ddf76d4141009f', run_link='', source='mlflow-artifacts:/1/cbae993dd72f49cfb7ddf76d4141009f/artifacts/model-RF', status='READY', status_message=None, tags={}, user_id=None, version=3>]"
      ]
     },
     "execution_count": 5,
     "metadata": {},
     "output_type": "execute_result"
    }
   ],
   "source": [
    "#### list the versions of models in the model registry nyc-taxi-regresor\n",
    "\n",
    "model_name = \"mlops-models\"\n",
    "latest_version = client.get_latest_versions(name=model_name)\n",
    "\n",
    "\n",
    "latest_version"
   ]
  },
  {
   "cell_type": "code",
   "execution_count": 6,
   "metadata": {},
   "outputs": [
    {
     "data": {
      "text/plain": [
       "<RegisteredModel: aliases={}, creation_timestamp=1721784832488, description='', last_updated_timestamp=1721787605801, latest_versions=[<ModelVersion: aliases=[], creation_timestamp=1721785095835, current_stage='Production', description='Model_MLP', last_updated_timestamp=1721787668591, name='mlops-models', run_id='bddff04759da44ef806aae7e65b09655', run_link='', source='mlflow-artifacts:/1/bddff04759da44ef806aae7e65b09655/artifacts/model-MLP', status='READY', status_message=None, tags={}, user_id=None, version=1>,\n",
       " <ModelVersion: aliases=[], creation_timestamp=1721785483629, current_stage='Archived', description='Model_SVC', last_updated_timestamp=1721787605801, name='mlops-models', run_id='5c271082e3ea43f48eed93bc6bee802a', run_link='', source='mlflow-artifacts:/1/5c271082e3ea43f48eed93bc6bee802a/artifacts/model-SVC', status='READY', status_message=None, tags={}, user_id=None, version=2>,\n",
       " <ModelVersion: aliases=[], creation_timestamp=1721785542259, current_stage='Staging', description='Model_RF', last_updated_timestamp=1721787598921, name='mlops-models', run_id='cbae993dd72f49cfb7ddf76d4141009f', run_link='', source='mlflow-artifacts:/1/cbae993dd72f49cfb7ddf76d4141009f/artifacts/model-RF', status='READY', status_message=None, tags={}, user_id=None, version=3>], name='mlops-models', tags={}>"
      ]
     },
     "execution_count": 6,
     "metadata": {},
     "output_type": "execute_result"
    }
   ],
   "source": [
    "client.get_registered_model(name=model_name)"
   ]
  },
  {
   "cell_type": "code",
   "execution_count": 7,
   "metadata": {},
   "outputs": [
    {
     "name": "stderr",
     "output_type": "stream",
     "text": [
      "/tmp/ipykernel_158113/509046451.py:3: FutureWarning: ``mlflow.tracking.client.MlflowClient.transition_model_version_stage`` is deprecated since 2.9.0. Model registry stages will be removed in a future major release. To learn more about the deprecation of model registry stages, see our migration guide here: https://mlflow.org/docs/latest/model-registry.html#migrating-from-stages\n",
      "  client.transition_model_version_stage(\n"
     ]
    },
    {
     "data": {
      "text/plain": [
       "<ModelVersion: aliases=[], creation_timestamp=1721785542259, current_stage='Staging', description='Model_RF', last_updated_timestamp=1721852318328, name='mlops-models', run_id='cbae993dd72f49cfb7ddf76d4141009f', run_link='', source='mlflow-artifacts:/1/cbae993dd72f49cfb7ddf76d4141009f/artifacts/model-RF', status='READY', status_message=None, tags={}, user_id=None, version=3>"
      ]
     },
     "execution_count": 7,
     "metadata": {},
     "output_type": "execute_result"
    }
   ],
   "source": [
    "# transition a model version 3 from none to staging\n",
    "\n",
    "client.transition_model_version_stage(\n",
    "    name=model_name, version=3, stage=\"Staging\", archive_existing_versions=False\n",
    ")"
   ]
  },
  {
   "cell_type": "code",
   "execution_count": 8,
   "metadata": {},
   "outputs": [
    {
     "name": "stderr",
     "output_type": "stream",
     "text": [
      "/tmp/ipykernel_158113/2147663952.py:3: FutureWarning: ``mlflow.tracking.client.MlflowClient.transition_model_version_stage`` is deprecated since 2.9.0. Model registry stages will be removed in a future major release. To learn more about the deprecation of model registry stages, see our migration guide here: https://mlflow.org/docs/latest/model-registry.html#migrating-from-stages\n",
      "  client.transition_model_version_stage(\n"
     ]
    },
    {
     "data": {
      "text/plain": [
       "<ModelVersion: aliases=[], creation_timestamp=1721785483629, current_stage='Archived', description='Model_SVC', last_updated_timestamp=1721852318813, name='mlops-models', run_id='5c271082e3ea43f48eed93bc6bee802a', run_link='', source='mlflow-artifacts:/1/5c271082e3ea43f48eed93bc6bee802a/artifacts/model-SVC', status='READY', status_message=None, tags={}, user_id=None, version=2>"
      ]
     },
     "execution_count": 8,
     "metadata": {},
     "output_type": "execute_result"
    }
   ],
   "source": [
    "# transition a model version 2 from none to Archived\n",
    "\n",
    "client.transition_model_version_stage(\n",
    "    name=model_name, version=2, stage=\"Archived\", archive_existing_versions=False\n",
    ")"
   ]
  },
  {
   "cell_type": "code",
   "execution_count": 9,
   "metadata": {},
   "outputs": [
    {
     "name": "stderr",
     "output_type": "stream",
     "text": [
      "/tmp/ipykernel_158113/3775272092.py:3: FutureWarning: ``mlflow.tracking.client.MlflowClient.transition_model_version_stage`` is deprecated since 2.9.0. Model registry stages will be removed in a future major release. To learn more about the deprecation of model registry stages, see our migration guide here: https://mlflow.org/docs/latest/model-registry.html#migrating-from-stages\n",
      "  client.transition_model_version_stage(\n"
     ]
    },
    {
     "data": {
      "text/plain": [
       "<ModelVersion: aliases=[], creation_timestamp=1721785095835, current_stage='Production', description='Model_MLP', last_updated_timestamp=1721852319205, name='mlops-models', run_id='bddff04759da44ef806aae7e65b09655', run_link='', source='mlflow-artifacts:/1/bddff04759da44ef806aae7e65b09655/artifacts/model-MLP', status='READY', status_message=None, tags={}, user_id=None, version=1>"
      ]
     },
     "execution_count": 9,
     "metadata": {},
     "output_type": "execute_result"
    }
   ],
   "source": [
    "# transition a model version 1 from none to production\n",
    "\n",
    "client.transition_model_version_stage(\n",
    "    name=model_name, version=1, stage=\"Production\", archive_existing_versions=False\n",
    ")"
   ]
  }
 ],
 "metadata": {
  "kernelspec": {
   "display_name": "project-env",
   "language": "python",
   "name": "python3"
  },
  "language_info": {
   "codemirror_mode": {
    "name": "ipython",
    "version": 3
   },
   "file_extension": ".py",
   "mimetype": "text/x-python",
   "name": "python",
   "nbconvert_exporter": "python",
   "pygments_lexer": "ipython3",
   "version": "3.11.9"
  }
 },
 "nbformat": 4,
 "nbformat_minor": 2
}
