{
 "cells": [
  {
   "cell_type": "code",
   "execution_count": 1,
   "metadata": {},
   "outputs": [],
   "source": [
    "import pandas as pd\n",
    "import numpy as np\n",
    "\n",
    "import pickle\n",
    "import os\n",
    "\n",
    "from sklearn.model_selection import train_test_split\n",
    "from sklearn.feature_extraction import DictVectorizer\n",
    "from sklearn.svm import SVC\n",
    "from sklearn.pipeline import make_pipeline\n",
    "from sklearn.metrics import roc_auc_score\n",
    "from sklearn.metrics import accuracy_score"
   ]
  },
  {
   "cell_type": "code",
   "execution_count": 2,
   "metadata": {},
   "outputs": [
    {
     "data": {
      "text/plain": [
       "<Experiment: artifact_location='s3://mlops-remote-bucket/1', experiment_id='1', lifecycle_stage='active', name='landmine-experiment', tags={}>"
      ]
     },
     "execution_count": 2,
     "metadata": {},
     "output_type": "execute_result"
    }
   ],
   "source": [
    "import mlflow\n",
    "\n",
    "mlflow.set_tracking_uri(\"http://127.0.0.1:5000\")\n",
    "mlflow.set_experiment(\"landmine-experiment\")"
   ]
  },
  {
   "cell_type": "code",
   "execution_count": 3,
   "metadata": {},
   "outputs": [],
   "source": [
    "# data preparation\n",
    "\n",
    "\n",
    "def get_data(data):\n",
    "\n",
    "    df = pd.read_csv(data)\n",
    "\n",
    "    df = df.rename(\n",
    "        columns={\"V\": \"voltage\", \"H\": \"height\", \"S\": \"soil_types\", \"M\": \"mine_types\"}\n",
    "    )\n",
    "\n",
    "    df[\"mine_types\"] = df[\"mine_types\"].replace({1: 0, 2: 1, 3: 2, 4: 3, 5: 4})\n",
    "\n",
    "    Q1 = df.quantile(0.25)\n",
    "    Q3 = df.quantile(0.75)\n",
    "    IQR = Q3 - Q1\n",
    "    df = df[~((df < (Q1 - 1.5 * IQR)) | (df > (Q3 + 1.5 * IQR))).any(axis=1)]\n",
    "    df.reset_index(drop=True)\n",
    "\n",
    "    num_variables = [\"voltage\", \"height\"]\n",
    "    cat_variable = [\"soil_types\"]\n",
    "    df[cat_variable] = df[cat_variable].astype(str)\n",
    "\n",
    "    return df"
   ]
  },
  {
   "cell_type": "code",
   "execution_count": 4,
   "metadata": {},
   "outputs": [
    {
     "data": {
      "text/html": [
       "<div>\n",
       "<style scoped>\n",
       "    .dataframe tbody tr th:only-of-type {\n",
       "        vertical-align: middle;\n",
       "    }\n",
       "\n",
       "    .dataframe tbody tr th {\n",
       "        vertical-align: top;\n",
       "    }\n",
       "\n",
       "    .dataframe thead th {\n",
       "        text-align: right;\n",
       "    }\n",
       "</style>\n",
       "<table border=\"1\" class=\"dataframe\">\n",
       "  <thead>\n",
       "    <tr style=\"text-align: right;\">\n",
       "      <th></th>\n",
       "      <th>voltage</th>\n",
       "      <th>height</th>\n",
       "      <th>soil_types</th>\n",
       "      <th>mine_types</th>\n",
       "    </tr>\n",
       "  </thead>\n",
       "  <tbody>\n",
       "    <tr>\n",
       "      <th>0</th>\n",
       "      <td>0.338157</td>\n",
       "      <td>0.000000</td>\n",
       "      <td>0.0</td>\n",
       "      <td>0</td>\n",
       "    </tr>\n",
       "    <tr>\n",
       "      <th>1</th>\n",
       "      <td>0.320241</td>\n",
       "      <td>0.181818</td>\n",
       "      <td>0.0</td>\n",
       "      <td>0</td>\n",
       "    </tr>\n",
       "    <tr>\n",
       "      <th>2</th>\n",
       "      <td>0.287009</td>\n",
       "      <td>0.272727</td>\n",
       "      <td>0.0</td>\n",
       "      <td>0</td>\n",
       "    </tr>\n",
       "    <tr>\n",
       "      <th>3</th>\n",
       "      <td>0.256284</td>\n",
       "      <td>0.454545</td>\n",
       "      <td>0.0</td>\n",
       "      <td>0</td>\n",
       "    </tr>\n",
       "    <tr>\n",
       "      <th>4</th>\n",
       "      <td>0.262840</td>\n",
       "      <td>0.545455</td>\n",
       "      <td>0.0</td>\n",
       "      <td>0</td>\n",
       "    </tr>\n",
       "    <tr>\n",
       "      <th>...</th>\n",
       "      <td>...</td>\n",
       "      <td>...</td>\n",
       "      <td>...</td>\n",
       "      <td>...</td>\n",
       "    </tr>\n",
       "    <tr>\n",
       "      <th>333</th>\n",
       "      <td>0.323262</td>\n",
       "      <td>0.909091</td>\n",
       "      <td>0.4</td>\n",
       "      <td>4</td>\n",
       "    </tr>\n",
       "    <tr>\n",
       "      <th>334</th>\n",
       "      <td>0.444108</td>\n",
       "      <td>0.181818</td>\n",
       "      <td>1.0</td>\n",
       "      <td>4</td>\n",
       "    </tr>\n",
       "    <tr>\n",
       "      <th>335</th>\n",
       "      <td>0.353474</td>\n",
       "      <td>0.454545</td>\n",
       "      <td>1.0</td>\n",
       "      <td>4</td>\n",
       "    </tr>\n",
       "    <tr>\n",
       "      <th>336</th>\n",
       "      <td>0.362537</td>\n",
       "      <td>0.727273</td>\n",
       "      <td>1.0</td>\n",
       "      <td>4</td>\n",
       "    </tr>\n",
       "    <tr>\n",
       "      <th>337</th>\n",
       "      <td>0.314199</td>\n",
       "      <td>1.000000</td>\n",
       "      <td>1.0</td>\n",
       "      <td>4</td>\n",
       "    </tr>\n",
       "  </tbody>\n",
       "</table>\n",
       "<p>306 rows × 4 columns</p>\n",
       "</div>"
      ],
      "text/plain": [
       "      voltage    height soil_types  mine_types\n",
       "0    0.338157  0.000000        0.0           0\n",
       "1    0.320241  0.181818        0.0           0\n",
       "2    0.287009  0.272727        0.0           0\n",
       "3    0.256284  0.454545        0.0           0\n",
       "4    0.262840  0.545455        0.0           0\n",
       "..        ...       ...        ...         ...\n",
       "333  0.323262  0.909091        0.4           4\n",
       "334  0.444108  0.181818        1.0           4\n",
       "335  0.353474  0.454545        1.0           4\n",
       "336  0.362537  0.727273        1.0           4\n",
       "337  0.314199  1.000000        1.0           4\n",
       "\n",
       "[306 rows x 4 columns]"
      ]
     },
     "execution_count": 4,
     "metadata": {},
     "output_type": "execute_result"
    }
   ],
   "source": [
    "dataset = get_data(\"Mine_Dataset.csv\")\n",
    "\n",
    "dataset"
   ]
  },
  {
   "cell_type": "code",
   "execution_count": 5,
   "metadata": {},
   "outputs": [],
   "source": [
    "# Splitting dataset\n",
    "\n",
    "\n",
    "def split_dataset(df):\n",
    "\n",
    "    df_full_train, df_test = train_test_split(df, test_size=0.2, random_state=1)\n",
    "    df_train, df_val = train_test_split(df_full_train, test_size=0.25, random_state=1)\n",
    "\n",
    "    df_full_train = df_full_train.reset_index(drop=True)\n",
    "    df_train = df_train.reset_index(drop=True)\n",
    "    df_val = df_val.reset_index(drop=True)\n",
    "    df_test = df_test.reset_index(drop=True)\n",
    "\n",
    "    return df_full_train, df_train, df_val, df_test"
   ]
  },
  {
   "cell_type": "code",
   "execution_count": 6,
   "metadata": {},
   "outputs": [],
   "source": [
    "df_full_train, df_train, df_val, df_test = split_dataset(dataset)"
   ]
  },
  {
   "cell_type": "code",
   "execution_count": 7,
   "metadata": {},
   "outputs": [],
   "source": [
    "# Function to get the target value\n",
    "\n",
    "\n",
    "def get_y(df):\n",
    "    y = df[\"mine_types\"].values\n",
    "    return y"
   ]
  },
  {
   "cell_type": "code",
   "execution_count": 8,
   "metadata": {},
   "outputs": [],
   "source": [
    "# Individual targets for the split dataset\n",
    "\n",
    "y_train = get_y(df_train)\n",
    "y_val = get_y(df_val)\n",
    "y_test = get_y(df_test)"
   ]
  },
  {
   "cell_type": "code",
   "execution_count": 9,
   "metadata": {},
   "outputs": [],
   "source": [
    "del df_train[\"mine_types\"]\n",
    "del df_val[\"mine_types\"]\n",
    "del df_test[\"mine_types\"]"
   ]
  },
  {
   "cell_type": "code",
   "execution_count": 10,
   "metadata": {},
   "outputs": [],
   "source": [
    "# Prepare dictionaries\n",
    "\n",
    "\n",
    "def prepare_dictionaries(df):\n",
    "\n",
    "    num_variables = [\"voltage\", \"height\"]\n",
    "    cat_variable = [\"soil_types\"]\n",
    "\n",
    "    dicts = df[cat_variable + num_variables].to_dict(orient=\"records\")\n",
    "    return dicts"
   ]
  },
  {
   "cell_type": "code",
   "execution_count": 11,
   "metadata": {},
   "outputs": [],
   "source": [
    "# individual dictionaries of the split dataset\n",
    "\n",
    "train_dicts = prepare_dictionaries(df_train)\n",
    "val_dicts = prepare_dictionaries(df_val)\n",
    "test_dicts = prepare_dictionaries(df_test)"
   ]
  },
  {
   "cell_type": "code",
   "execution_count": 12,
   "metadata": {},
   "outputs": [],
   "source": [
    "# Evaluation function of auc_score for individual target\n",
    "\n",
    "\n",
    "def roc_auc_score_multiclass(actual_class, pred_class, average=\"macro\"):\n",
    "\n",
    "    # creating a set of all the unique classes using the actual class list\n",
    "    unique_class = set(actual_class)\n",
    "    roc_auc_dict = {}\n",
    "    for per_class in unique_class:\n",
    "\n",
    "        # creating a list of all the classes except the current class\n",
    "        other_class = [x for x in unique_class if x != per_class]\n",
    "\n",
    "        # marking the current class as 1 and all other classes as 0\n",
    "        new_actual_class = [0 if x in other_class else 1 for x in actual_class]\n",
    "        new_pred_class = [0 if x in other_class else 1 for x in pred_class]\n",
    "\n",
    "        # using scikit-learn method to calculate the roc_auc_score\n",
    "        roc_auc = roc_auc_score(new_actual_class, new_pred_class, average=average)\n",
    "        roc_auc_dict[per_class] = roc_auc\n",
    "\n",
    "    return roc_auc_dict"
   ]
  },
  {
   "cell_type": "code",
   "execution_count": 13,
   "metadata": {},
   "outputs": [
    {
     "name": "stderr",
     "output_type": "stream",
     "text": [
      "2024/07/31 17:38:18 WARNING mlflow.utils.environment: Encountered an unexpected error while inferring pip requirements (model URI: /tmp/tmpgyebfxx2/model/model.pkl, flavor: sklearn), fall back to return ['scikit-learn==1.5.1', 'cloudpickle==3.0.0']. Set logging level to DEBUG to see the full traceback.\n",
      "/home/bluemusk/anaconda3/envs/project-env/lib/python3.11/site-packages/_distutils_hack/__init__.py:26: UserWarning: Setuptools is replacing distutils.\n",
      "  warnings.warn(\"Setuptools is replacing distutils.\")\n",
      "2024/07/31 17:39:20 WARNING mlflow.models.model: Logging model metadata to the tracking server has failed, possibly due older server version. The model artifacts have been logged successfully under s3://mlops-remote-bucket/1/6f4e767405144ea0abe4bdac7bdcbb43/artifacts. In addition to exporting model artifacts, MLflow clients 1.7.0 and above attempt to record model metadata to the tracking store. If logging to a mlflow server via REST, consider upgrading the server version to MLflow 1.7.0 or above.\n"
     ]
    },
    {
     "name": "stdout",
     "output_type": "stream",
     "text": [
      "{'C': 239.7017845360123, 'kernel': 'poly', 'degree': 3, 'gamma': 'scale', 'coef0': 9.717139430035742, 'tol': 0.6958712596862648, 'cache_size': 139, 'decision_function_shape': 'ovo'} 0.7049180327868853 {0: 0.8977272727272727, 1: 0.9375, 2: 0.6163636363636363, 3: 0.8325320512820512, 4: 0.7295918367346939}\n"
     ]
    }
   ],
   "source": [
    "# logging into MLflow\n",
    "\n",
    "with mlflow.start_run():\n",
    "\n",
    "    mlflow.set_tag(\"developer\", \"Emmanuel\")\n",
    "\n",
    "    mlflow.log_param(\"train-data\", df_train)\n",
    "    mlflow.log_param(\"val-data-path\", df_val)\n",
    "\n",
    "    SVC_best_params = {\n",
    "        \"C\": 239.7017845360123,\n",
    "        \"kernel\": \"poly\",\n",
    "        \"degree\": 3,\n",
    "        \"gamma\": \"scale\",\n",
    "        \"coef0\": 9.717139430035742,\n",
    "        \"tol\": 0.6958712596862648,\n",
    "        \"cache_size\": 139,\n",
    "        \"decision_function_shape\": \"ovo\",\n",
    "    }\n",
    "\n",
    "    mlflow.log_params(SVC_best_params)\n",
    "\n",
    "    pipeline = make_pipeline(DictVectorizer(sparse=False), SVC(**SVC_best_params))\n",
    "\n",
    "    pipeline.fit(train_dicts, y_train)\n",
    "\n",
    "    y_pred = pipeline.predict(val_dicts)\n",
    "\n",
    "    mlflow.sklearn.log_model(pipeline, artifact_path=\"model-SVC\")\n",
    "\n",
    "    accuracy = (y_val == y_pred).mean()\n",
    "\n",
    "    roc_auc_score = roc_auc_score_multiclass(y_val, y_pred)\n",
    "\n",
    "    print(SVC_best_params, accuracy, roc_auc_score)\n",
    "\n",
    "    mlflow.log_metric(\"accuracy\", accuracy)\n",
    "    mlflow.log_metric(\"roc_auc_score_0\", roc_auc_score[0])\n",
    "    mlflow.log_metric(\"roc_auc_score_1\", roc_auc_score[1])\n",
    "    mlflow.log_metric(\"roc_auc_score_2\", roc_auc_score[2])\n",
    "    mlflow.log_metric(\"roc_auc_score_3\", roc_auc_score[3])\n",
    "    mlflow.log_metric(\"roc_auc_score_4\", roc_auc_score[4])"
   ]
  },
  {
   "cell_type": "code",
   "execution_count": null,
   "metadata": {},
   "outputs": [],
   "source": []
  }
 ],
 "metadata": {
  "kernelspec": {
   "display_name": "project-env",
   "language": "python",
   "name": "python3"
  },
  "language_info": {
   "codemirror_mode": {
    "name": "ipython",
    "version": 3
   },
   "file_extension": ".py",
   "mimetype": "text/x-python",
   "name": "python",
   "nbconvert_exporter": "python",
   "pygments_lexer": "ipython3",
   "version": "3.11.9"
  }
 },
 "nbformat": 4,
 "nbformat_minor": 2
}
