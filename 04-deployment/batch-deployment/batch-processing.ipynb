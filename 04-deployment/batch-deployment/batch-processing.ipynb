{
 "cells": [
  {
   "cell_type": "code",
   "execution_count": 1,
   "metadata": {},
   "outputs": [],
   "source": [
    "import pandas as pd\n",
    "import numpy as np\n",
    "\n",
    "import pickle\n",
    "import os\n",
    "import mlflow\n",
    "\n",
    "from sklearn.model_selection import train_test_split\n",
    "from sklearn.feature_extraction import DictVectorizer\n",
    "from sklearn.svm import SVC\n",
    "from sklearn.pipeline import make_pipeline\n",
    "from sklearn.metrics import roc_auc_score\n",
    "from sklearn.metrics import accuracy_score"
   ]
  },
  {
   "cell_type": "markdown",
   "metadata": {},
   "source": [
    "#### Get and run model with its ID from AWS S3 bucket"
   ]
  },
  {
   "cell_type": "code",
   "execution_count": 3,
   "metadata": {},
   "outputs": [],
   "source": [
    "RUN_ID = os.getenv(\n",
    "    \"RUN_ID\", \"6f4e767405144ea0abe4bdac7bdcbb43\"\n",
    ")  #'6f4e767405144ea0abe4bdac7bdcbb43'\n",
    "\n",
    "# model from aws s3 bucket\n",
    "logged_model = f\"s3://mlops-remote-bucket/1/{RUN_ID}/artifacts/model-SVC\"\n",
    "\n",
    "# Load model as a PyFuncModel.\n",
    "model = mlflow.pyfunc.load_model(logged_model)"
   ]
  },
  {
   "cell_type": "code",
   "execution_count": 4,
   "metadata": {},
   "outputs": [
    {
     "data": {
      "text/plain": [
       "mlflow.pyfunc.loaded_model:\n",
       "  artifact_path: model-SVC\n",
       "  flavor: mlflow.sklearn\n",
       "  run_id: 6f4e767405144ea0abe4bdac7bdcbb43"
      ]
     },
     "execution_count": 4,
     "metadata": {},
     "output_type": "execute_result"
    }
   ],
   "source": [
    "# check model for confirmation\n",
    "\n",
    "model"
   ]
  },
  {
   "cell_type": "code",
   "execution_count": 5,
   "metadata": {},
   "outputs": [],
   "source": [
    "# data preparation\n",
    "\n",
    "\n",
    "def get_data(data):\n",
    "\n",
    "    df = pd.read_csv(data)\n",
    "\n",
    "    df = df.rename(\n",
    "        columns={\"V\": \"voltage\", \"H\": \"height\", \"S\": \"soil_types\", \"M\": \"mine_types\"}\n",
    "    )\n",
    "\n",
    "    df[\"mine_types\"] = df[\"mine_types\"].replace({1: 0, 2: 1, 3: 2, 4: 3, 5: 4})\n",
    "\n",
    "    Q1 = df.quantile(0.25)\n",
    "    Q3 = df.quantile(0.75)\n",
    "    IQR = Q3 - Q1\n",
    "    df = df[~((df < (Q1 - 1.5 * IQR)) | (df > (Q3 + 1.5 * IQR))).any(axis=1)]\n",
    "    df.reset_index(drop=True)\n",
    "\n",
    "    num_variables = [\"voltage\", \"height\"]\n",
    "    cat_variable = [\"soil_types\"]\n",
    "    df[cat_variable] = df[cat_variable].astype(str)\n",
    "\n",
    "    return df"
   ]
  },
  {
   "cell_type": "code",
   "execution_count": 8,
   "metadata": {},
   "outputs": [
    {
     "data": {
      "text/html": [
       "<div>\n",
       "<style scoped>\n",
       "    .dataframe tbody tr th:only-of-type {\n",
       "        vertical-align: middle;\n",
       "    }\n",
       "\n",
       "    .dataframe tbody tr th {\n",
       "        vertical-align: top;\n",
       "    }\n",
       "\n",
       "    .dataframe thead th {\n",
       "        text-align: right;\n",
       "    }\n",
       "</style>\n",
       "<table border=\"1\" class=\"dataframe\">\n",
       "  <thead>\n",
       "    <tr style=\"text-align: right;\">\n",
       "      <th></th>\n",
       "      <th>voltage</th>\n",
       "      <th>height</th>\n",
       "      <th>soil_types</th>\n",
       "      <th>mine_types</th>\n",
       "    </tr>\n",
       "  </thead>\n",
       "  <tbody>\n",
       "    <tr>\n",
       "      <th>0</th>\n",
       "      <td>0.338157</td>\n",
       "      <td>0.000000</td>\n",
       "      <td>0.0</td>\n",
       "      <td>0</td>\n",
       "    </tr>\n",
       "    <tr>\n",
       "      <th>1</th>\n",
       "      <td>0.320241</td>\n",
       "      <td>0.181818</td>\n",
       "      <td>0.0</td>\n",
       "      <td>0</td>\n",
       "    </tr>\n",
       "    <tr>\n",
       "      <th>2</th>\n",
       "      <td>0.287009</td>\n",
       "      <td>0.272727</td>\n",
       "      <td>0.0</td>\n",
       "      <td>0</td>\n",
       "    </tr>\n",
       "    <tr>\n",
       "      <th>3</th>\n",
       "      <td>0.256284</td>\n",
       "      <td>0.454545</td>\n",
       "      <td>0.0</td>\n",
       "      <td>0</td>\n",
       "    </tr>\n",
       "    <tr>\n",
       "      <th>4</th>\n",
       "      <td>0.262840</td>\n",
       "      <td>0.545455</td>\n",
       "      <td>0.0</td>\n",
       "      <td>0</td>\n",
       "    </tr>\n",
       "    <tr>\n",
       "      <th>...</th>\n",
       "      <td>...</td>\n",
       "      <td>...</td>\n",
       "      <td>...</td>\n",
       "      <td>...</td>\n",
       "    </tr>\n",
       "    <tr>\n",
       "      <th>333</th>\n",
       "      <td>0.323262</td>\n",
       "      <td>0.909091</td>\n",
       "      <td>0.4</td>\n",
       "      <td>4</td>\n",
       "    </tr>\n",
       "    <tr>\n",
       "      <th>334</th>\n",
       "      <td>0.444108</td>\n",
       "      <td>0.181818</td>\n",
       "      <td>1.0</td>\n",
       "      <td>4</td>\n",
       "    </tr>\n",
       "    <tr>\n",
       "      <th>335</th>\n",
       "      <td>0.353474</td>\n",
       "      <td>0.454545</td>\n",
       "      <td>1.0</td>\n",
       "      <td>4</td>\n",
       "    </tr>\n",
       "    <tr>\n",
       "      <th>336</th>\n",
       "      <td>0.362537</td>\n",
       "      <td>0.727273</td>\n",
       "      <td>1.0</td>\n",
       "      <td>4</td>\n",
       "    </tr>\n",
       "    <tr>\n",
       "      <th>337</th>\n",
       "      <td>0.314199</td>\n",
       "      <td>1.000000</td>\n",
       "      <td>1.0</td>\n",
       "      <td>4</td>\n",
       "    </tr>\n",
       "  </tbody>\n",
       "</table>\n",
       "<p>306 rows × 4 columns</p>\n",
       "</div>"
      ],
      "text/plain": [
       "      voltage    height soil_types  mine_types\n",
       "0    0.338157  0.000000        0.0           0\n",
       "1    0.320241  0.181818        0.0           0\n",
       "2    0.287009  0.272727        0.0           0\n",
       "3    0.256284  0.454545        0.0           0\n",
       "4    0.262840  0.545455        0.0           0\n",
       "..        ...       ...        ...         ...\n",
       "333  0.323262  0.909091        0.4           4\n",
       "334  0.444108  0.181818        1.0           4\n",
       "335  0.353474  0.454545        1.0           4\n",
       "336  0.362537  0.727273        1.0           4\n",
       "337  0.314199  1.000000        1.0           4\n",
       "\n",
       "[306 rows x 4 columns]"
      ]
     },
     "execution_count": 8,
     "metadata": {},
     "output_type": "execute_result"
    }
   ],
   "source": [
    "dataset = get_data(\"Mine_Dataset.csv\")\n",
    "\n",
    "dataset"
   ]
  },
  {
   "cell_type": "code",
   "execution_count": 9,
   "metadata": {},
   "outputs": [],
   "source": [
    "# Splitting dataset\n",
    "\n",
    "\n",
    "def split_dataset(df):\n",
    "\n",
    "    df_full_train, df_test = train_test_split(df, test_size=0.2, random_state=1)\n",
    "    df_train, df_val = train_test_split(df_full_train, test_size=0.25, random_state=1)\n",
    "\n",
    "    df_full_train = df_full_train.reset_index(drop=True)\n",
    "    df_train = df_train.reset_index(drop=True)\n",
    "    df_val = df_val.reset_index(drop=True)\n",
    "    df_test = df_test.reset_index(drop=True)\n",
    "\n",
    "    return df_full_train, df_train, df_val, df_test"
   ]
  },
  {
   "cell_type": "code",
   "execution_count": 10,
   "metadata": {},
   "outputs": [],
   "source": [
    "df_full_train, df_train, df_val, df_test = split_dataset(dataset)"
   ]
  },
  {
   "cell_type": "code",
   "execution_count": 11,
   "metadata": {},
   "outputs": [],
   "source": [
    "# Function to get the target value\n",
    "\n",
    "\n",
    "def get_y(df):\n",
    "    y = df[\"mine_types\"].values\n",
    "    return y"
   ]
  },
  {
   "cell_type": "code",
   "execution_count": 12,
   "metadata": {},
   "outputs": [],
   "source": [
    "# Individual targets for the split dataset\n",
    "\n",
    "y_train = get_y(df_train)\n",
    "y_val = get_y(df_val)\n",
    "y_test = get_y(df_test)"
   ]
  },
  {
   "cell_type": "code",
   "execution_count": 13,
   "metadata": {},
   "outputs": [],
   "source": [
    "del df_train[\"mine_types\"]\n",
    "del df_val[\"mine_types\"]\n",
    "del df_test[\"mine_types\"]"
   ]
  },
  {
   "cell_type": "code",
   "execution_count": 14,
   "metadata": {},
   "outputs": [],
   "source": [
    "# Prepare dictionaries\n",
    "\n",
    "\n",
    "def prepare_dictionaries(df):\n",
    "\n",
    "    num_variables = [\"voltage\", \"height\"]\n",
    "    cat_variable = [\"soil_types\"]\n",
    "\n",
    "    dicts = df[cat_variable + num_variables].to_dict(orient=\"records\")\n",
    "    return dicts"
   ]
  },
  {
   "cell_type": "code",
   "execution_count": 15,
   "metadata": {},
   "outputs": [],
   "source": [
    "# individual dictionaries of the split dataset\n",
    "\n",
    "train_dicts = prepare_dictionaries(df_train)\n",
    "val_dicts = prepare_dictionaries(df_val)\n",
    "test_dicts = prepare_dictionaries(df_test)"
   ]
  },
  {
   "cell_type": "code",
   "execution_count": 65,
   "metadata": {},
   "outputs": [],
   "source": [
    "# Evaluation function of auc_score for individual target\n",
    "\n",
    "\n",
    "def roc_auc_score_multiclass(actual_class, pred_class, average=\"macro\"):\n",
    "\n",
    "    # creating a set of all the unique classes using the actual class list\n",
    "    unique_class = set(actual_class)\n",
    "    roc_auc_dict = {}\n",
    "    for per_class in unique_class:\n",
    "\n",
    "        # creating a list of all the classes except the current class\n",
    "        other_class = [x for x in unique_class if x != per_class]\n",
    "\n",
    "        # marking the current class as 1 and all other classes as 0\n",
    "        new_actual_class = [0 if x in other_class else 1 for x in actual_class]\n",
    "        new_pred_class = [0 if x in other_class else 1 for x in pred_class]\n",
    "\n",
    "        # using scikit-learn method to calculate the roc_auc_score\n",
    "        roc_auc = roc_auc_score(new_actual_class, new_pred_class, average=average)\n",
    "        roc_auc_dict[per_class] = roc_auc\n",
    "\n",
    "    return roc_auc_dict"
   ]
  },
  {
   "cell_type": "markdown",
   "metadata": {},
   "source": [
    "#### Applying the model on random test dataset (df_test)"
   ]
  },
  {
   "cell_type": "code",
   "execution_count": 17,
   "metadata": {},
   "outputs": [
    {
     "data": {
      "text/html": [
       "<div>\n",
       "<style scoped>\n",
       "    .dataframe tbody tr th:only-of-type {\n",
       "        vertical-align: middle;\n",
       "    }\n",
       "\n",
       "    .dataframe tbody tr th {\n",
       "        vertical-align: top;\n",
       "    }\n",
       "\n",
       "    .dataframe thead th {\n",
       "        text-align: right;\n",
       "    }\n",
       "</style>\n",
       "<table border=\"1\" class=\"dataframe\">\n",
       "  <thead>\n",
       "    <tr style=\"text-align: right;\">\n",
       "      <th></th>\n",
       "      <th>voltage</th>\n",
       "      <th>height</th>\n",
       "      <th>soil_types</th>\n",
       "    </tr>\n",
       "  </thead>\n",
       "  <tbody>\n",
       "    <tr>\n",
       "      <th>0</th>\n",
       "      <td>0.356495</td>\n",
       "      <td>0.363636</td>\n",
       "      <td>0.2</td>\n",
       "    </tr>\n",
       "    <tr>\n",
       "      <th>1</th>\n",
       "      <td>0.504531</td>\n",
       "      <td>0.363636</td>\n",
       "      <td>0.2</td>\n",
       "    </tr>\n",
       "    <tr>\n",
       "      <th>2</th>\n",
       "      <td>0.549848</td>\n",
       "      <td>0.818182</td>\n",
       "      <td>1.0</td>\n",
       "    </tr>\n",
       "    <tr>\n",
       "      <th>3</th>\n",
       "      <td>0.314199</td>\n",
       "      <td>1.000000</td>\n",
       "      <td>1.0</td>\n",
       "    </tr>\n",
       "    <tr>\n",
       "      <th>4</th>\n",
       "      <td>0.425981</td>\n",
       "      <td>0.545455</td>\n",
       "      <td>1.0</td>\n",
       "    </tr>\n",
       "    <tr>\n",
       "      <th>...</th>\n",
       "      <td>...</td>\n",
       "      <td>...</td>\n",
       "      <td>...</td>\n",
       "    </tr>\n",
       "    <tr>\n",
       "      <th>57</th>\n",
       "      <td>0.422960</td>\n",
       "      <td>0.272727</td>\n",
       "      <td>1.0</td>\n",
       "    </tr>\n",
       "    <tr>\n",
       "      <th>58</th>\n",
       "      <td>0.338157</td>\n",
       "      <td>0.000000</td>\n",
       "      <td>0.0</td>\n",
       "    </tr>\n",
       "    <tr>\n",
       "      <th>59</th>\n",
       "      <td>0.280966</td>\n",
       "      <td>0.818182</td>\n",
       "      <td>0.2</td>\n",
       "    </tr>\n",
       "    <tr>\n",
       "      <th>60</th>\n",
       "      <td>0.335347</td>\n",
       "      <td>0.818182</td>\n",
       "      <td>0.0</td>\n",
       "    </tr>\n",
       "    <tr>\n",
       "      <th>61</th>\n",
       "      <td>0.404833</td>\n",
       "      <td>0.636364</td>\n",
       "      <td>1.0</td>\n",
       "    </tr>\n",
       "  </tbody>\n",
       "</table>\n",
       "<p>62 rows × 3 columns</p>\n",
       "</div>"
      ],
      "text/plain": [
       "     voltage    height soil_types\n",
       "0   0.356495  0.363636        0.2\n",
       "1   0.504531  0.363636        0.2\n",
       "2   0.549848  0.818182        1.0\n",
       "3   0.314199  1.000000        1.0\n",
       "4   0.425981  0.545455        1.0\n",
       "..       ...       ...        ...\n",
       "57  0.422960  0.272727        1.0\n",
       "58  0.338157  0.000000        0.0\n",
       "59  0.280966  0.818182        0.2\n",
       "60  0.335347  0.818182        0.0\n",
       "61  0.404833  0.636364        1.0\n",
       "\n",
       "[62 rows x 3 columns]"
      ]
     },
     "execution_count": 17,
     "metadata": {},
     "output_type": "execute_result"
    }
   ],
   "source": [
    "df_test"
   ]
  },
  {
   "cell_type": "code",
   "execution_count": 18,
   "metadata": {},
   "outputs": [
    {
     "data": {
      "text/plain": [
       "62"
      ]
     },
     "execution_count": 18,
     "metadata": {},
     "output_type": "execute_result"
    }
   ],
   "source": [
    "# length of df_test dataset\n",
    "\n",
    "len(df_test)"
   ]
  },
  {
   "cell_type": "code",
   "execution_count": 37,
   "metadata": {},
   "outputs": [
    {
     "data": {
      "text/plain": [
       "{'voltage': 0.341389342, 'height': 0.818181818, 'soil_types': '0.4'}"
      ]
     },
     "execution_count": 37,
     "metadata": {},
     "output_type": "execute_result"
    }
   ],
   "source": [
    "# index 40 of test dataset\n",
    "\n",
    "land_mine = df_test.iloc[40].to_dict()\n",
    "land_mine"
   ]
  },
  {
   "cell_type": "code",
   "execution_count": 32,
   "metadata": {},
   "outputs": [
    {
     "data": {
      "text/plain": [
       "4"
      ]
     },
     "execution_count": 32,
     "metadata": {},
     "output_type": "execute_result"
    }
   ],
   "source": [
    "# prediction\n",
    "\n",
    "y_pred = model.predict(land_mine)\n",
    "y_pred[0]"
   ]
  },
  {
   "cell_type": "markdown",
   "metadata": {},
   "source": [
    "#### Applying the model on all test dataset (test_dicts) to predict"
   ]
  },
  {
   "cell_type": "code",
   "execution_count": 33,
   "metadata": {},
   "outputs": [
    {
     "data": {
      "text/plain": [
       "[{'soil_types': '0.2', 'voltage': 0.356495062, 'height': 0.363636364},\n",
       " {'soil_types': '0.2', 'voltage': 0.504531116, 'height': 0.363636364},\n",
       " {'soil_types': '1.0', 'voltage': 0.549848276, 'height': 0.818181818},\n",
       " {'soil_types': '1.0', 'voltage': 0.314199046, 'height': 1.0},\n",
       " {'soil_types': '1.0', 'voltage': 0.425981373, 'height': 0.545454545},\n",
       " {'soil_types': '0.2', 'voltage': 0.438065949, 'height': 0.545454545},\n",
       " {'soil_types': '0.0', 'voltage': 0.335347054, 'height': 0.454545455},\n",
       " {'soil_types': '0.2', 'voltage': 0.296072182, 'height': 0.909090909},\n",
       " {'soil_types': '0.0', 'voltage': 0.471298533, 'height': 0.181818182},\n",
       " {'soil_types': '0.8', 'voltage': 0.477340821, 'height': 0.181818182},\n",
       " {'soil_types': '1.0', 'voltage': 0.353473918, 'height': 0.454545455},\n",
       " {'soil_types': '0.6', 'voltage': 0.558911708, 'height': 0.0},\n",
       " {'soil_types': '0.2', 'voltage': 0.326283622, 'height': 0.909090909},\n",
       " {'soil_types': '0.0', 'voltage': 0.356495062, 'height': 0.636363636},\n",
       " {'soil_types': '0.8', 'voltage': 0.391177902, 'height': 0.272727273},\n",
       " {'soil_types': '1.0', 'voltage': 0.290029894, 'height': 0.090909091},\n",
       " {'soil_types': '0.4', 'voltage': 0.398791077, 'height': 0.363636364},\n",
       " {'soil_types': '0.6', 'voltage': 0.613292299, 'height': 0.181818182},\n",
       " {'soil_types': '0.0', 'voltage': 0.586102004, 'height': 0.727272727},\n",
       " {'soil_types': '0.2', 'voltage': 0.303262478, 'height': 0.272727273},\n",
       " {'soil_types': '0.6', 'voltage': 0.244712735, 'height': 0.909090909},\n",
       " {'soil_types': '0.6', 'voltage': 0.330029894, 'height': 0.454545455},\n",
       " {'soil_types': '0.0', 'voltage': 0.36253735, 'height': 0.909090909},\n",
       " {'soil_types': '0.6', 'voltage': 0.501509972, 'height': 0.0},\n",
       " {'soil_types': '0.4', 'voltage': 0.240332143, 'height': 0.181818182},\n",
       " {'soil_types': '0.6', 'voltage': 0.655588315, 'height': 0.545454545},\n",
       " {'soil_types': '0.8', 'voltage': 0.371600782, 'height': 0.454545455},\n",
       " {'soil_types': '0.4', 'voltage': 0.549848276, 'height': 0.272727273},\n",
       " {'soil_types': '0.2', 'voltage': 0.504531116, 'height': 0.272727273},\n",
       " {'soil_types': '0.6', 'voltage': 0.335347054, 'height': 0.545454545},\n",
       " {'soil_types': '0.0', 'voltage': 0.344410486, 'height': 0.363636364},\n",
       " {'soil_types': '0.8', 'voltage': 0.30211447, 'height': 0.454545455},\n",
       " {'soil_types': '0.0', 'voltage': 0.439213957, 'height': 1.0},\n",
       " {'soil_types': '0.8', 'voltage': 0.314199046, 'height': 0.727272727},\n",
       " {'soil_types': '0.4', 'voltage': 0.341389342, 'height': 0.727272727},\n",
       " {'soil_types': '0.4', 'voltage': 0.395769933, 'height': 0.636363636},\n",
       " {'soil_types': '0.2', 'voltage': 0.480361965, 'height': 0.454545455},\n",
       " {'soil_types': '0.0', 'voltage': 0.365347054, 'height': 0.181818182},\n",
       " {'soil_types': '0.4', 'voltage': 0.33232591, 'height': 0.636363636},\n",
       " {'soil_types': '1.0', 'voltage': 0.36253735, 'height': 0.727272727},\n",
       " {'soil_types': '0.4', 'voltage': 0.341389342, 'height': 0.818181818},\n",
       " {'soil_types': '0.8', 'voltage': 0.348791077, 'height': 0.636363636},\n",
       " {'soil_types': '0.2', 'voltage': 0.395769933, 'height': 0.272727273},\n",
       " {'soil_types': '0.2', 'voltage': 0.389727645, 'height': 0.181818182},\n",
       " {'soil_types': '0.6', 'voltage': 0.534742556, 'height': 0.727272727},\n",
       " {'soil_types': '0.4', 'voltage': 0.262839599, 'height': 0.454545455},\n",
       " {'soil_types': '0.8', 'voltage': 0.365558494, 'height': 0.818181818},\n",
       " {'soil_types': '1.0', 'voltage': 0.350452774, 'height': 0.818181818},\n",
       " {'soil_types': '0.0', 'voltage': 0.262839599, 'height': 0.545454545},\n",
       " {'soil_types': '1.0', 'voltage': 0.444108237, 'height': 0.181818182},\n",
       " {'soil_types': '0.6', 'voltage': 0.338368198, 'height': 0.909090909},\n",
       " {'soil_types': '0.0', 'voltage': 0.311177902, 'height': 0.181818182},\n",
       " {'soil_types': '1.0', 'voltage': 0.329304766, 'height': 0.727272727},\n",
       " {'soil_types': '0.6', 'voltage': 0.335347054, 'height': 0.181818182},\n",
       " {'soil_types': '0.2', 'voltage': 0.353473918, 'height': 0.454545455},\n",
       " {'soil_types': '0.2', 'voltage': 0.315347054, 'height': 0.0},\n",
       " {'soil_types': '0.8', 'voltage': 0.628398019, 'height': 0.636363636},\n",
       " {'soil_types': '1.0', 'voltage': 0.422960229, 'height': 0.272727273},\n",
       " {'soil_types': '0.0', 'voltage': 0.338156758, 'height': 0.0},\n",
       " {'soil_types': '0.2', 'voltage': 0.280966463, 'height': 0.818181818},\n",
       " {'soil_types': '0.0', 'voltage': 0.335347054, 'height': 0.818181818},\n",
       " {'soil_types': '1.0', 'voltage': 0.404833365, 'height': 0.636363636}]"
      ]
     },
     "execution_count": 33,
     "metadata": {},
     "output_type": "execute_result"
    }
   ],
   "source": [
    "test_dicts"
   ]
  },
  {
   "cell_type": "code",
   "execution_count": 34,
   "metadata": {},
   "outputs": [
    {
     "data": {
      "text/plain": [
       "62"
      ]
     },
     "execution_count": 34,
     "metadata": {},
     "output_type": "execute_result"
    }
   ],
   "source": [
    "len(test_dicts)"
   ]
  },
  {
   "cell_type": "code",
   "execution_count": 38,
   "metadata": {},
   "outputs": [
    {
     "data": {
      "text/plain": [
       "array([4, 1, 1, 2, 3, 1, 2, 4, 3, 2, 4, 4, 4, 3, 4, 0, 4, 2, 1, 0, 0, 0,\n",
       "       3, 4, 3, 1, 4, 2, 3, 0, 2, 0, 1, 0, 4, 2, 1, 4, 0, 3, 4, 4, 4, 4,\n",
       "       1, 3, 2, 3, 0, 3, 2, 0, 3, 0, 4, 0, 1, 3, 0, 0, 3, 3])"
      ]
     },
     "execution_count": 38,
     "metadata": {},
     "output_type": "execute_result"
    }
   ],
   "source": [
    "# predictions of the whole test dataset\n",
    "\n",
    "y_pred = model.predict(test_dicts)\n",
    "y_pred"
   ]
  },
  {
   "cell_type": "code",
   "execution_count": 39,
   "metadata": {},
   "outputs": [
    {
     "data": {
      "text/plain": [
       "4"
      ]
     },
     "execution_count": 39,
     "metadata": {},
     "output_type": "execute_result"
    }
   ],
   "source": [
    "# prediction of the 40th dataset: same as above\n",
    "\n",
    "y_pred = model.predict(test_dicts)\n",
    "y_pred[40]"
   ]
  },
  {
   "cell_type": "markdown",
   "metadata": {},
   "source": [
    "#### Putting all above in a pipeline"
   ]
  },
  {
   "cell_type": "code",
   "execution_count": 42,
   "metadata": {},
   "outputs": [],
   "source": [
    "# data preparation\n",
    "\n",
    "\n",
    "def get_data(data):\n",
    "\n",
    "    df = pd.read_csv(data)\n",
    "\n",
    "    df = df.rename(\n",
    "        columns={\"V\": \"voltage\", \"H\": \"height\", \"S\": \"soil_types\", \"M\": \"mine_types\"}\n",
    "    )\n",
    "\n",
    "    df[\"mine_types\"] = df[\"mine_types\"].replace({1: 0, 2: 1, 3: 2, 4: 3, 5: 4})\n",
    "\n",
    "    Q1 = df.quantile(0.25)\n",
    "    Q3 = df.quantile(0.75)\n",
    "    IQR = Q3 - Q1\n",
    "    df = df[~((df < (Q1 - 1.5 * IQR)) | (df > (Q3 + 1.5 * IQR))).any(axis=1)]\n",
    "    df.reset_index(drop=True)\n",
    "\n",
    "    num_variables = [\"voltage\", \"height\"]\n",
    "    cat_variable = [\"soil_types\"]\n",
    "    df[cat_variable] = df[cat_variable].astype(str)\n",
    "\n",
    "    return df\n",
    "\n",
    "\n",
    "# Splitting dataset\n",
    "\n",
    "\n",
    "def split_dataset(df):\n",
    "\n",
    "    df_full_train, df_test = train_test_split(df, test_size=0.2, random_state=1)\n",
    "    df_train, df_val = train_test_split(df_full_train, test_size=0.25, random_state=1)\n",
    "\n",
    "    df_full_train = df_full_train.reset_index(drop=True)\n",
    "    df_train = df_train.reset_index(drop=True)\n",
    "    df_val = df_val.reset_index(drop=True)\n",
    "    df_test = df_test.reset_index(drop=True)\n",
    "\n",
    "    return df_full_train, df_train, df_val, df_test\n",
    "\n",
    "\n",
    "df_full_train, df_train, df_val, df_test = split_dataset(dataset)"
   ]
  },
  {
   "cell_type": "code",
   "execution_count": 43,
   "metadata": {},
   "outputs": [],
   "source": [
    "# Prepare dictionaries\n",
    "\n",
    "\n",
    "def prepare_dictionaries(df):\n",
    "\n",
    "    num_variables = [\"voltage\", \"height\"]\n",
    "    cat_variable = [\"soil_types\"]\n",
    "\n",
    "    dicts = df[cat_variable + num_variables].to_dict(orient=\"records\")\n",
    "    return dicts\n",
    "\n",
    "\n",
    "# individual dictionaries of the split dataset\n",
    "\n",
    "train_dicts = prepare_dictionaries(df_train)\n",
    "val_dicts = prepare_dictionaries(df_val)\n",
    "test_dicts = prepare_dictionaries(df_test)"
   ]
  },
  {
   "cell_type": "code",
   "execution_count": 44,
   "metadata": {},
   "outputs": [],
   "source": [
    "# Function to get the target value\n",
    "\n",
    "\n",
    "def get_y(df):\n",
    "    y = df[\"mine_types\"].values\n",
    "    return y\n",
    "\n",
    "\n",
    "# Individual targets for the split dataset\n",
    "\n",
    "y_train = get_y(df_train)\n",
    "y_val = get_y(df_val)\n",
    "y_test = get_y(df_test)\n",
    "\n",
    "\n",
    "# delete the target from each dataset\n",
    "\n",
    "del df_train[\"mine_types\"]\n",
    "del df_val[\"mine_types\"]\n",
    "del df_test[\"mine_types\"]"
   ]
  },
  {
   "cell_type": "code",
   "execution_count": 45,
   "metadata": {},
   "outputs": [],
   "source": [
    "# function of the load model\n",
    "\n",
    "\n",
    "def load_model(run_id):\n",
    "\n",
    "    logged_model = f\"s3://mlops-remote-bucket/1/{RUN_ID}/artifacts/model-SVC\"\n",
    "    model = mlflow.pyfunc.load_model(logged_model)\n",
    "    return model"
   ]
  },
  {
   "cell_type": "markdown",
   "metadata": {},
   "source": [
    "#### Applying the full model pipeline on the index 40 test data"
   ]
  },
  {
   "cell_type": "code",
   "execution_count": 71,
   "metadata": {},
   "outputs": [],
   "source": [
    "def apply_model(input_data, run_id):\n",
    "\n",
    "    df = get_data(input_data)\n",
    "\n",
    "    df_full_train, df_train, df_val, df_test = split_dataset(df)\n",
    "\n",
    "    dicts = prepare_dictionaries(df)\n",
    "\n",
    "    train_dicts = prepare_dictionaries(df_train)\n",
    "    val_dicts = prepare_dictionaries(df_val)\n",
    "    test_dicts = prepare_dictionaries(df_test)\n",
    "\n",
    "    y = get_y(df)\n",
    "\n",
    "    y_train = get_y(df_train)\n",
    "    y_val = get_y(df_val)\n",
    "    y_test = get_y(df_test)\n",
    "\n",
    "    del df_train[\"mine_types\"]\n",
    "    del df_val[\"mine_types\"]\n",
    "    del df_test[\"mine_types\"]\n",
    "\n",
    "    model = load_model(run_id)\n",
    "    y_pred = model.predict(test_dicts)\n",
    "\n",
    "    roc_auc_dict = roc_auc_score_multiclass(y_test, y_pred)\n",
    "\n",
    "    return y_pred, roc_auc_dict"
   ]
  },
  {
   "cell_type": "code",
   "execution_count": 72,
   "metadata": {},
   "outputs": [],
   "source": [
    "# calling the full pipeline\n",
    "\n",
    "predictions, auc_score = apply_model(\"Mine_Dataset.csv\", run_id=RUN_ID)"
   ]
  },
  {
   "cell_type": "code",
   "execution_count": 73,
   "metadata": {},
   "outputs": [
    {
     "data": {
      "text/plain": [
       "array([4, 1, 1, 2, 3, 1, 2, 4, 3, 2, 4, 4, 4, 3, 4, 0, 4, 2, 1, 0, 0, 0,\n",
       "       3, 4, 3, 1, 4, 2, 3, 0, 2, 0, 1, 0, 4, 2, 1, 4, 0, 3, 4, 4, 4, 4,\n",
       "       1, 3, 2, 3, 0, 3, 2, 0, 3, 0, 4, 0, 1, 3, 0, 0, 3, 3])"
      ]
     },
     "execution_count": 73,
     "metadata": {},
     "output_type": "execute_result"
    }
   ],
   "source": [
    "predictions"
   ]
  },
  {
   "cell_type": "code",
   "execution_count": 74,
   "metadata": {},
   "outputs": [
    {
     "data": {
      "text/plain": [
       "{0: 0.98,\n",
       " 1: 1.0,\n",
       " 2: 0.6970108695652174,\n",
       " 3: 0.8228511530398323,\n",
       " 4: 0.7051630434782609}"
      ]
     },
     "execution_count": 74,
     "metadata": {},
     "output_type": "execute_result"
    }
   ],
   "source": [
    "auc_score"
   ]
  },
  {
   "cell_type": "code",
   "execution_count": 75,
   "metadata": {},
   "outputs": [
    {
     "data": {
      "text/plain": [
       "4"
      ]
     },
     "execution_count": 75,
     "metadata": {},
     "output_type": "execute_result"
    }
   ],
   "source": [
    "predictions[40]"
   ]
  },
  {
   "cell_type": "code",
   "execution_count": null,
   "metadata": {},
   "outputs": [],
   "source": []
  }
 ],
 "metadata": {
  "kernelspec": {
   "display_name": "project-env",
   "language": "python",
   "name": "python3"
  },
  "language_info": {
   "codemirror_mode": {
    "name": "ipython",
    "version": 3
   },
   "file_extension": ".py",
   "mimetype": "text/x-python",
   "name": "python",
   "nbconvert_exporter": "python",
   "pygments_lexer": "ipython3",
   "version": "3.11.9"
  }
 },
 "nbformat": 4,
 "nbformat_minor": 2
}
